{
 "cells": [
  {
   "cell_type": "markdown",
   "id": "a78e97e6",
   "metadata": {},
   "source": [
    "# Sentiment Analysis of Tweets directed at Brands and Products"
   ]
  },
  {
   "cell_type": "markdown",
   "id": "29e81246",
   "metadata": {},
   "source": [
    "### BUSINESS UNDERSTANDING"
   ]
  },
  {
   "cell_type": "markdown",
   "id": "4cc2feec",
   "metadata": {},
   "source": [
    "In today’s digital age, customers frequently share their opinions about products and brands on social media platforms like Twitter. These opinions provide valuable insights for companies to understand customer satisfaction, detect dissatisfaction early, and improve their products or services.\n",
    "\n",
    "The business problem is to automatically identify the sentiment expressed in tweets about Apple and Google products. By classifying tweets as positive, negative, or neutral, businesses can:\n",
    "\n",
    "1. Monitor brand reputation in real time.\n",
    "\n",
    "2. Track how customers respond to new product releases or updates.\n",
    "\n",
    "3. Identify areas for improvement based on negative feedback.\n",
    "\n",
    "4. Support data-driven decision-making in marketing and product strategy.\n",
    "\n",
    "The ultimate goal is to build a sentiment analysis model that helps businesses quickly interpret large volumes of customer feedback without manual review."
   ]
  }
 ],
 "metadata": {
  "kernelspec": {
   "display_name": "learn-env",
   "language": "python",
   "name": "python3"
  },
  "language_info": {
   "name": "python",
   "version": "3.8.15"
  }
 },
 "nbformat": 4,
 "nbformat_minor": 5
}
