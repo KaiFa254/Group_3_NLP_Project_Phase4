{
 "cells": [
  {
   "cell_type": "markdown",
   "id": "a78e97e6",
   "metadata": {},
   "source": [
    "# Sentiment Analysis of Tweets directed at Brands and Products"
   ]
  },
  {
   "cell_type": "markdown",
   "id": "29e81246",
   "metadata": {},
   "source": [
    "## 1.0 Business Understanding"
   ]
  },
  {
   "cell_type": "markdown",
   "id": "4cc2feec",
   "metadata": {},
   "source": [
    "In today’s digital age, customers frequently share their opinions about products and brands on social media platforms like Twitter. These opinions provide valuable insights for companies to understand customer satisfaction, detect dissatisfaction early, and improve their products or services.\n",
    "\n",
    "The business problem is to automatically identify the sentiment expressed in tweets about Apple and Google products. By classifying tweets as positive, negative, or neutral, businesses can:\n",
    "\n",
    "1. Monitor brand reputation in real time.\n",
    "\n",
    "2. Track how customers respond to new product releases or updates.\n",
    "\n",
    "3. Identify areas for improvement based on negative feedback.\n",
    "\n",
    "4. Support data-driven decision-making in marketing and product strategy.\n",
    "\n",
    "The ultimate goal is to build a sentiment analysis model that helps businesses quickly interpret large volumes of customer feedback without manual review."
   ]
  },
  {
   "cell_type": "markdown",
   "id": "28109bab",
   "metadata": {},
   "source": [
    "## 2.0 Data Understanding\n",
    "\n",
    "The dataset comes from CrowdFlower and contains over 9,000 tweets related to Apple and Google products. Each tweet has been human-labeled for sentiment as:\n",
    "\n",
    "1. Positive emotion\n",
    "\n",
    "2. Negative emotion\n",
    "\n",
    "3. No emotion toward brand/product\n",
    "\n",
    "4. Unclear/I can’t tell\n",
    "\n",
    "##### Key characteristics:\n",
    "\n",
    "* Textual Data: Tweets are short, noisy, and often contain slang, hashtags, mentions, and URLs, which makes preprocessing crucial.\n",
    "\n",
    "* Target Variable: The label indicating whether a sentiment is directed at a brand or product.\n",
    "\n",
    "* Class Distribution: The dataset is slightly imbalanced, with more neutral/no-emotion tweets compared to positive or negative ones.\n",
    "\n",
    "This dataset is well-suited for the business problem because it directly reflects real customer opinions on social media about Apple and Google. The labeled sentiments provide a foundation for training supervised machine learning models to classify unseen tweets in real time."
   ]
  },
  {
   "cell_type": "code",
   "execution_count": 48,
   "id": "45f85880",
   "metadata": {},
   "outputs": [
    {
     "name": "stderr",
     "output_type": "stream",
     "text": [
      "[nltk_data] Downloading package punkt to\n",
      "[nltk_data]     C:\\Users\\erastus.kaiba\\AppData\\Roaming\\nltk_data...\n",
      "[nltk_data]   Package punkt is already up-to-date!\n",
      "[nltk_data] Downloading package stopwords to\n",
      "[nltk_data]     C:\\Users\\erastus.kaiba\\AppData\\Roaming\\nltk_data...\n",
      "[nltk_data]   Package stopwords is already up-to-date!\n",
      "[nltk_data] Downloading package wordnet to\n",
      "[nltk_data]     C:\\Users\\erastus.kaiba\\AppData\\Roaming\\nltk_data...\n",
      "[nltk_data]   Package wordnet is already up-to-date!\n",
      "[nltk_data] Downloading package omw-1.4 to\n",
      "[nltk_data]     C:\\Users\\erastus.kaiba\\AppData\\Roaming\\nltk_data...\n",
      "[nltk_data]   Package omw-1.4 is already up-to-date!\n"
     ]
    }
   ],
   "source": [
    "# ==============================\n",
    "# Data Handling & Numerical Tools\n",
    "# ==============================\n",
    "import pandas as pd\n",
    "import numpy as np\n",
    "import re\n",
    "\n",
    "# ==============================\n",
    "# Visualization\n",
    "# ==============================\n",
    "import matplotlib.pyplot as plt\n",
    "import seaborn as sns\n",
    "\n",
    "# ==============================\n",
    "# Natural Language Processing (NLTK)\n",
    "# ==============================\n",
    "import nltk\n",
    "from nltk.corpus import stopwords\n",
    "from nltk.stem import WordNetLemmatizer\n",
    "from nltk.tokenize import word_tokenize\n",
    "\n",
    "# NLTK downloads\n",
    "nltk.download('punkt')       # Tokenizer models\n",
    "nltk.download('stopwords')   # Common stopwords\n",
    "nltk.download('wordnet')     # WordNet lexical database\n",
    "nltk.download('omw-1.4')     # Open Multilingual WordNet\n",
    "\n",
    "# ==============================\n",
    "# Feature Extraction\n",
    "# ==============================\n",
    "from sklearn.feature_extraction.text import TfidfVectorizer\n",
    "\n",
    "# ==============================\n",
    "# Model Selection & Evaluation\n",
    "# ==============================\n",
    "from sklearn.model_selection import train_test_split, cross_val_score, GridSearchCV, RandomizedSearchCV\n",
    "from sklearn.preprocessing import LabelEncoder\n",
    "from sklearn.metrics import classification_report, accuracy_score, confusion_matrix, ConfusionMatrixDisplay\n",
    "\n",
    "# ==============================\n",
    "# Handling Class Imbalance\n",
    "# ==============================\n",
    "from imblearn.pipeline import Pipeline\n",
    "from imblearn.over_sampling import SMOTE\n",
    "\n",
    "# ==============================\n",
    "# Machine Learning Models\n",
    "# ==============================\n",
    "from sklearn.naive_bayes import MultinomialNB\n",
    "from sklearn.linear_model import LogisticRegression\n",
    "from sklearn.svm import LinearSVC\n",
    "from sklearn.ensemble import RandomForestClassifier, GradientBoostingClassifier, AdaBoostClassifier\n",
    "from sklearn.neighbors import KNeighborsClassifier\n",
    "from xgboost import XGBClassifier\n",
    "from sklearn.dummy import DummyClassifier\n",
    "\n",
    "# ==============================\n",
    "# Deep Learning (Optional)\n",
    "# ==============================\n",
    "from tensorflow.keras.models import Sequential\n",
    "from tensorflow.keras.layers import Dense, Dropout\n",
    "from tensorflow.keras.optimizers import Adam\n"
   ]
  },
  {
   "cell_type": "markdown",
   "id": "8c7578c8",
   "metadata": {},
   "source": [
    "## 3.0 Exploratory Data Analysis"
   ]
  },
  {
   "cell_type": "code",
   "execution_count": 49,
   "id": "13b7bf77",
   "metadata": {},
   "outputs": [
    {
     "name": "stdout",
     "output_type": "stream",
     "text": [
      "(9093, 3)\n",
      "\n",
      "\n",
      "<class 'pandas.core.frame.DataFrame'>\n",
      "RangeIndex: 9093 entries, 0 to 9092\n",
      "Data columns (total 3 columns):\n",
      " #   Column                                              Non-Null Count  Dtype \n",
      "---  ------                                              --------------  ----- \n",
      " 0   tweet_text                                          9092 non-null   object\n",
      " 1   emotion_in_tweet_is_directed_at                     3291 non-null   object\n",
      " 2   is_there_an_emotion_directed_at_a_brand_or_product  9093 non-null   object\n",
      "dtypes: object(3)\n",
      "memory usage: 213.2+ KB\n",
      "\n",
      "\n"
     ]
    },
    {
     "data": {
      "text/html": [
       "<div>\n",
       "<style scoped>\n",
       "    .dataframe tbody tr th:only-of-type {\n",
       "        vertical-align: middle;\n",
       "    }\n",
       "\n",
       "    .dataframe tbody tr th {\n",
       "        vertical-align: top;\n",
       "    }\n",
       "\n",
       "    .dataframe thead th {\n",
       "        text-align: right;\n",
       "    }\n",
       "</style>\n",
       "<table border=\"1\" class=\"dataframe\">\n",
       "  <thead>\n",
       "    <tr style=\"text-align: right;\">\n",
       "      <th></th>\n",
       "      <th>tweet_text</th>\n",
       "      <th>emotion_in_tweet_is_directed_at</th>\n",
       "      <th>is_there_an_emotion_directed_at_a_brand_or_product</th>\n",
       "    </tr>\n",
       "  </thead>\n",
       "  <tbody>\n",
       "    <tr>\n",
       "      <th>0</th>\n",
       "      <td>.@wesley83 I have a 3G iPhone. After 3 hrs twe...</td>\n",
       "      <td>iPhone</td>\n",
       "      <td>Negative emotion</td>\n",
       "    </tr>\n",
       "    <tr>\n",
       "      <th>1</th>\n",
       "      <td>@jessedee Know about @fludapp ? Awesome iPad/i...</td>\n",
       "      <td>iPad or iPhone App</td>\n",
       "      <td>Positive emotion</td>\n",
       "    </tr>\n",
       "    <tr>\n",
       "      <th>2</th>\n",
       "      <td>@swonderlin Can not wait for #iPad 2 also. The...</td>\n",
       "      <td>iPad</td>\n",
       "      <td>Positive emotion</td>\n",
       "    </tr>\n",
       "    <tr>\n",
       "      <th>3</th>\n",
       "      <td>@sxsw I hope this year's festival isn't as cra...</td>\n",
       "      <td>iPad or iPhone App</td>\n",
       "      <td>Negative emotion</td>\n",
       "    </tr>\n",
       "    <tr>\n",
       "      <th>4</th>\n",
       "      <td>@sxtxstate great stuff on Fri #SXSW: Marissa M...</td>\n",
       "      <td>Google</td>\n",
       "      <td>Positive emotion</td>\n",
       "    </tr>\n",
       "  </tbody>\n",
       "</table>\n",
       "</div>"
      ],
      "text/plain": [
       "                                          tweet_text  \\\n",
       "0  .@wesley83 I have a 3G iPhone. After 3 hrs twe...   \n",
       "1  @jessedee Know about @fludapp ? Awesome iPad/i...   \n",
       "2  @swonderlin Can not wait for #iPad 2 also. The...   \n",
       "3  @sxsw I hope this year's festival isn't as cra...   \n",
       "4  @sxtxstate great stuff on Fri #SXSW: Marissa M...   \n",
       "\n",
       "  emotion_in_tweet_is_directed_at  \\\n",
       "0                          iPhone   \n",
       "1              iPad or iPhone App   \n",
       "2                            iPad   \n",
       "3              iPad or iPhone App   \n",
       "4                          Google   \n",
       "\n",
       "  is_there_an_emotion_directed_at_a_brand_or_product  \n",
       "0                                   Negative emotion  \n",
       "1                                   Positive emotion  \n",
       "2                                   Positive emotion  \n",
       "3                                   Negative emotion  \n",
       "4                                   Positive emotion  "
      ]
     },
     "execution_count": 49,
     "metadata": {},
     "output_type": "execute_result"
    }
   ],
   "source": [
    "# Loading dataset\n",
    "\n",
    "df = pd.read_csv(\"Data\\judge-1377884607_tweet_product_company.csv\",encoding=\"latin1\")\n",
    "\n",
    "# Quick overview\n",
    "print(df.shape)\n",
    "print(\"\\n\")\n",
    "df.info()\n",
    "print(\"\\n\")\n",
    "df.head()\n"
   ]
  },
  {
   "cell_type": "markdown",
   "id": "507f254c",
   "metadata": {},
   "source": [
    "The dataset has 9093 rows and 3 columns.\n",
    "\n",
    "Key columns of interest:\n",
    "\n",
    "* tweet_text → raw tweet ( The input feature)\n",
    "\n",
    "* is_there_an_emotion_directed_at_a_brand_or_product → target sentiment\n",
    "\n",
    "* emotion_in_tweet_is_directed_at → optional metadata (brand/product mentioned)"
   ]
  },
  {
   "cell_type": "code",
   "execution_count": 50,
   "id": "4e81b42f",
   "metadata": {},
   "outputs": [
    {
     "data": {
      "text/plain": [
       "tweet_text                                               1\n",
       "emotion_in_tweet_is_directed_at                       5802\n",
       "is_there_an_emotion_directed_at_a_brand_or_product       0\n",
       "dtype: int64"
      ]
     },
     "execution_count": 50,
     "metadata": {},
     "output_type": "execute_result"
    }
   ],
   "source": [
    "# Checks for Missing Values\n",
    "df.isnull().sum()"
   ]
  },
  {
   "cell_type": "markdown",
   "id": "0c18b905",
   "metadata": {},
   "source": [
    "tweet_text: 1 missing value\n",
    "\n",
    "emotion_in_tweet_is_directed_at: ~5,800 missing (not essential for sentiment task)\n",
    "\n",
    "is_there_an_emotion_directed_at_a_brand_or_product: no missing values"
   ]
  },
  {
   "cell_type": "code",
   "execution_count": 51,
   "id": "25d06906",
   "metadata": {},
   "outputs": [
    {
     "data": {
      "image/png": "[encoded data removed]",
      "text/plain": [
       "<Figure size 1400x600 with 2 Axes>"
      ]
     },
     "metadata": {},
     "output_type": "display_data"
    }
   ],
   "source": [
    "# Target Distribution\n",
    "fig, axes = plt.subplots(1, 2, figsize=(14, 6))  # one row, two columns\n",
    "\n",
    "# --- Countplot on the left ---\n",
    "sns.countplot(\n",
    "    x=df['is_there_an_emotion_directed_at_a_brand_or_product'],\n",
    "    order=df['is_there_an_emotion_directed_at_a_brand_or_product'].value_counts().index,\n",
    "    ax=axes[0]\n",
    ")\n",
    "axes[0].set_title(\"Distribution of Sentiment Classes\")\n",
    "axes[0].set_xticklabels(axes[0].get_xticklabels(), rotation=45)\n",
    "axes[0].set_xlabel(\"Sentiment Class\")\n",
    "axes[0].set_ylabel(\"Count\")\n",
    "\n",
    "# --- Pie chart on the right ---\n",
    "df['is_there_an_emotion_directed_at_a_brand_or_product'].value_counts(normalize=True).plot.pie(\n",
    "    autopct='%1.1f%%', ax=axes[1], startangle=90, cmap='tab20'\n",
    ")\n",
    "axes[1].set_ylabel(\"\")  # remove y-label\n",
    "axes[1].set_title(\"Sentiment Class Proportions\")\n",
    "\n",
    "plt.tight_layout()\n",
    "plt.show()"
   ]
  },
  {
   "cell_type": "markdown",
   "id": "e2c6de77",
   "metadata": {},
   "source": [
    "The dataset contains four target categories: Positive emotion, Negative emotion, No emotion toward brand or product, and I can’t tell. An imbalance is evident across these classes, with the No emotion category appearing more frequently than the Positive emotion category."
   ]
  },
  {
   "cell_type": "code",
   "execution_count": 52,
   "id": "2c0c3e0b",
   "metadata": {},
   "outputs": [
    {
     "data": {
      "image/png": "[encoded data removed]",
      "text/plain": [
       "<Figure size 640x480 with 1 Axes>"
      ]
     },
     "metadata": {},
     "output_type": "display_data"
    }
   ],
   "source": [
    "# Tweet Length Analysis\n",
    "df['tweet_length'] = df['tweet_text'].apply(lambda x: len(str(x).split()))\n",
    "sns.histplot(df['tweet_length'], bins=30, kde=True)\n",
    "plt.title(\"Distribution of Tweet Lengths (in words)\")\n",
    "plt.xlabel(\"Word Count\")\n",
    "plt.ylabel(\"Frequency\")\n",
    "plt.show()\n"
   ]
  },
  {
   "cell_type": "markdown",
   "id": "c2d503ff",
   "metadata": {},
   "source": [
    "Most tweets range between 5–25 words, with a few outliers that are either very short (1–2 words) or unusually long."
   ]
  },
  {
   "cell_type": "markdown",
   "id": "9275f1f2",
   "metadata": {},
   "source": [
    "## 4.0  Data Preparation"
   ]
  },
  {
   "cell_type": "code",
   "execution_count": 53,
   "id": "435299e9",
   "metadata": {},
   "outputs": [
    {
     "name": "stdout",
     "output_type": "stream",
     "text": [
      "Shape after dropping null tweet_text: (9092, 4)\n",
      "\n",
      "Target value counts:\n",
      "No emotion toward brand or product    5388\n",
      "Positive emotion                      2978\n",
      "Negative emotion                       570\n",
      "I can't tell                           156\n",
      "Name: is_there_an_emotion_directed_at_a_brand_or_product, dtype: int64\n"
     ]
    }
   ],
   "source": [
    "# Handles Missing Values\n",
    "\n",
    "# Drop rows with null tweets (main feature)\n",
    "df = df.dropna(subset=['tweet_text'])\n",
    "\n",
    "# Verify shape after dropping\n",
    "print(\"Shape after dropping null tweet_text:\", df.shape)\n",
    "\n",
    "# Check target distribution\n",
    "print(\"\\nTarget value counts:\")\n",
    "print(df['is_there_an_emotion_directed_at_a_brand_or_product'].value_counts())\n"
   ]
  },
  {
   "cell_type": "markdown",
   "id": "999a71f5",
   "metadata": {},
   "source": [
    "Dataset Overview After Cleaning\n",
    "\n",
    "After removing rows with missing tweet_text, the dataset contains 9,092 records.\n",
    "\n",
    "The distribution of target labels indicates a noticeable class imbalance:\n",
    "\n",
    "* No emotion toward brand or product: 5,388\n",
    "\n",
    "* Positive emotion: 2,978\n",
    "\n",
    "* Negative emotion: 570\n",
    "\n",
    "* I can’t tell: 156\n",
    "\n",
    "The No emotion category is the majority class, while Negative and I can’t tell are underrepresented"
   ]
  },
  {
   "cell_type": "code",
   "execution_count": 54,
   "id": "572bc79b",
   "metadata": {},
   "outputs": [
    {
     "name": "stdout",
     "output_type": "stream",
     "text": [
      "Shape of binary dataset: (3548, 4)\n",
      "\n",
      "Binary target distribution:\n",
      "Positive emotion    2978\n",
      "Negative emotion     570\n",
      "Name: is_there_an_emotion_directed_at_a_brand_or_product, dtype: int64\n"
     ]
    }
   ],
   "source": [
    "# Binary Classification Setup\n",
    "# Keep only Positive and Negative emotions\n",
    "df_binary = df[df['is_there_an_emotion_directed_at_a_brand_or_product'].isin(['Positive emotion', 'Negative emotion'])]\n",
    "\n",
    "# Check new shape and distribution\n",
    "print(\"Shape of binary dataset:\", df_binary.shape)\n",
    "print(\"\\nBinary target distribution:\")\n",
    "print(df_binary['is_there_an_emotion_directed_at_a_brand_or_product'].value_counts())\n"
   ]
  },
  {
   "cell_type": "markdown",
   "id": "e6f5387d",
   "metadata": {},
   "source": [
    "For the binary classification task, only the Positive emotion and Negative emotion classes were retained, resulting in a dataset of 3,548 records, where Positive emotion (2,978) substantially outnumbers Negative emotion (570), indicating class imbalance."
   ]
  },
  {
   "cell_type": "markdown",
   "id": "35c79b1e",
   "metadata": {},
   "source": [
    "## 5.0 NLP Pre-Processing"
   ]
  },
  {
   "cell_type": "markdown",
   "id": "1784de64",
   "metadata": {},
   "source": [
    "### 5.1 Text preprocessing \n",
    "\n",
    "Tweets contain noise such as URLs, hashtags, mentions, punctuation, numbers, and filler words (stopwords). If we feed this raw text directly into a model, it can mislead the classifier. Therefore, we clean and normalize the text so that the model focuses only on meaningful tokens."
   ]
  },
  {
   "cell_type": "code",
   "execution_count": 55,
   "id": "78db59a3",
   "metadata": {},
   "outputs": [],
   "source": [
    "# Initialize tools\n",
    "stop_words = set(stopwords.words('english'))\n",
    "lemmatizer = WordNetLemmatizer()\n",
    "\n",
    "# Cleaning function\n",
    "def clean_text(text):\n",
    "    text = text.lower()  # Lowercase\n",
    "    text = re.sub(r\"http\\S+|www\\S+|https\\S+\", '', text)  # Remove URLs\n",
    "    text = re.sub(r'\\@\\w+|\\#', '', text)  # Remove mentions & hashtags\n",
    "    text = re.sub(r'[^a-zA-Z\\s]', '', text)  # Remove non-alphabetic characters\n",
    "    tokens = word_tokenize(text)  # Tokenize\n",
    "    tokens = [lemmatizer.lemmatize(word) for word in tokens if word not in stop_words]  # Remove stopwords + lemmatize\n",
    "    return ' '.join(tokens)\n",
    "\n",
    "# # Apply cleaning to tweets\n",
    "# df['cleaned_tweet'] = df['tweet_text'].apply(clean_text)\n",
    "\n",
    "# # Preview cleaned text\n",
    "# df[['tweet_text', 'cleaned_tweet']].head()\n",
    "\n",
    "# Binary dataset\n",
    "df_binary = df[df['is_there_an_emotion_directed_at_a_brand_or_product'].isin(\n",
    "    ['Positive emotion', 'Negative emotion']\n",
    ")].copy()\n",
    "\n",
    "df_binary['cleaned_tweet'] = df_binary['tweet_text'].apply(clean_text)\n",
    "\n",
    "\n"
   ]
  },
  {
   "cell_type": "markdown",
   "id": "29b3e00e",
   "metadata": {},
   "source": [
    "### 5.2  Encode Labels\n",
    "\n",
    "Machine learning models work with numbers, not strings → we use Label Encoding to convert classes into integers."
   ]
  },
  {
   "cell_type": "code",
   "execution_count": 56,
   "id": "922ed5ce",
   "metadata": {},
   "outputs": [
    {
     "name": "stdout",
     "output_type": "stream",
     "text": [
      "{'Negative emotion': 0, 'Positive emotion': 1}\n"
     ]
    }
   ],
   "source": [
    "label_encoder = LabelEncoder()\n",
    "df_binary['label'] = label_encoder.fit_transform(\n",
    "    df_binary['is_there_an_emotion_directed_at_a_brand_or_product']\n",
    ")\n",
    "print(dict(zip(label_encoder.classes_, label_encoder.transform(label_encoder.classes_))))"
   ]
  },
  {
   "cell_type": "markdown",
   "id": "0c41aeab",
   "metadata": {},
   "source": [
    "### 5.3 Train-Test Split"
   ]
  },
  {
   "cell_type": "code",
   "execution_count": 57,
   "id": "3aa8a9bb",
   "metadata": {},
   "outputs": [
    {
     "name": "stdout",
     "output_type": "stream",
     "text": [
      "\n",
      "Training set class distribution:\n",
      "1    0.839323\n",
      "0    0.160677\n",
      "Name: label, dtype: float64\n",
      "\n",
      "Test set class distribution:\n",
      "1    0.839437\n",
      "0    0.160563\n",
      "Name: label, dtype: float64\n"
     ]
    }
   ],
   "source": [
    "\n",
    "#  we test on 20% of the data, stratifying to maintain class balance\n",
    "\n",
    "X = df_binary['cleaned_tweet']\n",
    "y = df_binary['label']\n",
    "\n",
    "X_train, X_test, y_train, y_test = train_test_split(\n",
    "    X, y, test_size=0.2, random_state=42, stratify=y\n",
    ")\n",
    "\n",
    "\n",
    "# After split: check training distribution\n",
    "print(\"\\nTraining set class distribution:\")\n",
    "print(y_train.value_counts(normalize=True))\n",
    "\n",
    "# After split: check testing distribution\n",
    "print(\"\\nTest set class distribution:\")\n",
    "print(y_test.value_counts(normalize=True))"
   ]
  },
  {
   "cell_type": "markdown",
   "id": "c9fd33db",
   "metadata": {},
   "source": [
    "## 6.0 Modelling and Evaluation\n",
    "\n",
    "The TF-IDF Vectorizer (Term Frequency–Inverse Document Frequency) transforms text data into numerical features that reflect the importance of words in documents relative to a corpus. It helps highlight words that are more relevant to specific documents while down-weighting common words that appear frequently across all documents."
   ]
  },
  {
   "cell_type": "markdown",
   "id": "3b47291a",
   "metadata": {},
   "source": [
    "### 6.1 Baseline Model Benchmarking with Cross-Validation Pipeline\n",
    "\n",
    "We build and compare multiple models, we then evaluate algorithms such as **Logistic Regression, Random Forest, Gradient Boosting, AdaBoost, and XGBoost**. This helps us benchmark performance and identify the best model for our dataset.\n",
    "\n",
    "**The TF-IDF Vectorizer** (Term Frequency–Inverse Document Frequency) transforms text data into numerical features that reflect the importance of words in documents , It helps highlight words that are more relevant to specific documents while down-weighting common words that appear frequently across all documents.\n",
    "\n",
    "**Cross-Validation:** Evaluates models consistently using 5-fold CV and accuracy scoring.\n",
    "\n",
    "**smote** – Balances minority class by generating synthetic samples.\n",
    "\n"
   ]
  },
  {
   "cell_type": "code",
   "execution_count": 58,
   "id": "7a1dda52",
   "metadata": {},
   "outputs": [
    {
     "name": "stdout",
     "output_type": "stream",
     "text": [
      "Naive Bayes: 0.8671\n",
      "Logistic Regression: 0.8988\n",
      "Random Forest: 0.9286\n",
      "Gradient Boosting: 0.8945\n",
      "AdaBoost: 0.8769\n",
      "XGBoost: 0.9140\n"
     ]
    }
   ],
   "source": [
    "#This step trains each model on multiclass sentiment labels using TF-IDF features, \n",
    "# applies SMOTE balancing, and prints cross-validation accuracy.\n",
    "\n",
    "# Define models\n",
    "models = {\n",
    "    \"Naive Bayes\": MultinomialNB(),\n",
    "    \"Logistic Regression\": LogisticRegression(max_iter=1000),\n",
    "    \"Random Forest\": RandomForestClassifier(),\n",
    "    \"Gradient Boosting\": GradientBoostingClassifier(),\n",
    "    \"AdaBoost\": AdaBoostClassifier(),\n",
    "    \"XGBoost\": XGBClassifier( eval_metric='mlogloss'),\n",
    "}\n",
    "\n",
    "# Function to train and evaluate with cross-validation\n",
    "def evaluate_models(models, X_train, y_train):\n",
    "    results = {}\n",
    "    for name, model in models.items():\n",
    "        pipeline = Pipeline([\n",
    "            ('tfidf', TfidfVectorizer(max_features=5000, ngram_range=(1,2))), #Convert raw text into numerical features using TF-IDF.\n",
    "            ('smote', SMOTE(random_state=42)), #Balances minority class by generating synthetic samples.\n",
    "            ('clf', model)\n",
    "        ])\n",
    "        scores = cross_val_score(pipeline, X_train, y_train, cv=5, scoring='f1')\n",
    "        results[name] = scores.mean()\n",
    "        print(f\"{name}: {scores.mean():.4f}\")\n",
    "    return results\n",
    "\n",
    "results = evaluate_models(models, X_train, y_train)\n"
   ]
  },
  {
   "cell_type": "markdown",
   "id": "44fe6455",
   "metadata": {},
   "source": [
    "### 6.2 Pick Best Model and Retrain\n"
   ]
  },
  {
   "cell_type": "code",
   "execution_count": 59,
   "id": "b036f2ab",
   "metadata": {},
   "outputs": [
    {
     "name": "stdout",
     "output_type": "stream",
     "text": [
      "\n",
      "Best model: Random Forest with accuracy 0.9286\n"
     ]
    }
   ],
   "source": [
    "# Pick the best model based on cross-validation accuracy and retrain it on the full training set\n",
    "best_model_name = max(results, key=results.get)\n",
    "print(f\"\\nBest model: {best_model_name} with accuracy {results[best_model_name]:.4f}\") "
   ]
  },
  {
   "cell_type": "code",
   "execution_count": 60,
   "id": "f0a25cf7",
   "metadata": {},
   "outputs": [
    {
     "data": {
      "text/html": [
       "<style>#sk-container-id-1 {color: black;background-color: white;}#sk-container-id-1 pre{padding: 0;}#sk-container-id-1 div.sk-toggleable {background-color: white;}#sk-container-id-1 label.sk-toggleable__label {cursor: pointer;display: block;width: 100%;margin-bottom: 0;padding: 0.3em;box-sizing: border-box;text-align: center;}#sk-container-id-1 label.sk-toggleable__label-arrow:before {content: \"▸\";float: left;margin-right: 0.25em;color: #696969;}#sk-container-id-1 label.sk-toggleable__label-arrow:hover:before {color: black;}#sk-container-id-1 div.sk-estimator:hover label.sk-toggleable__label-arrow:before {color: black;}#sk-container-id-1 div.sk-toggleable__content {max-height: 0;max-width: 0;overflow: hidden;text-align: left;background-color: #f0f8ff;}#sk-container-id-1 div.sk-toggleable__content pre {margin: 0.2em;color: black;border-radius: 0.25em;background-color: #f0f8ff;}#sk-container-id-1 input.sk-toggleable__control:checked~div.sk-toggleable__content {max-height: 200px;max-width: 100%;overflow: auto;}#sk-container-id-1 input.sk-toggleable__control:checked~label.sk-toggleable__label-arrow:before {content: \"▾\";}#sk-container-id-1 div.sk-estimator input.sk-toggleable__control:checked~label.sk-toggleable__label {background-color: #d4ebff;}#sk-container-id-1 div.sk-label input.sk-toggleable__control:checked~label.sk-toggleable__label {background-color: #d4ebff;}#sk-container-id-1 input.sk-hidden--visually {border: 0;clip: rect(1px 1px 1px 1px);clip: rect(1px, 1px, 1px, 1px);height: 1px;margin: -1px;overflow: hidden;padding: 0;position: absolute;width: 1px;}#sk-container-id-1 div.sk-estimator {font-family: monospace;background-color: #f0f8ff;border: 1px dotted black;border-radius: 0.25em;box-sizing: border-box;margin-bottom: 0.5em;}#sk-container-id-1 div.sk-estimator:hover {background-color: #d4ebff;}#sk-container-id-1 div.sk-parallel-item::after {content: \"\";width: 100%;border-bottom: 1px solid gray;flex-grow: 1;}#sk-container-id-1 div.sk-label:hover label.sk-toggleable__label {background-color: #d4ebff;}#sk-container-id-1 div.sk-serial::before {content: \"\";position: absolute;border-left: 1px solid gray;box-sizing: border-box;top: 0;bottom: 0;left: 50%;z-index: 0;}#sk-container-id-1 div.sk-serial {display: flex;flex-direction: column;align-items: center;background-color: white;padding-right: 0.2em;padding-left: 0.2em;position: relative;}#sk-container-id-1 div.sk-item {position: relative;z-index: 1;}#sk-container-id-1 div.sk-parallel {display: flex;align-items: stretch;justify-content: center;background-color: white;position: relative;}#sk-container-id-1 div.sk-item::before, #sk-container-id-1 div.sk-parallel-item::before {content: \"\";position: absolute;border-left: 1px solid gray;box-sizing: border-box;top: 0;bottom: 0;left: 50%;z-index: -1;}#sk-container-id-1 div.sk-parallel-item {display: flex;flex-direction: column;z-index: 1;position: relative;background-color: white;}#sk-container-id-1 div.sk-parallel-item:first-child::after {align-self: flex-end;width: 50%;}#sk-container-id-1 div.sk-parallel-item:last-child::after {align-self: flex-start;width: 50%;}#sk-container-id-1 div.sk-parallel-item:only-child::after {width: 0;}#sk-container-id-1 div.sk-dashed-wrapped {border: 1px dashed gray;margin: 0 0.4em 0.5em 0.4em;box-sizing: border-box;padding-bottom: 0.4em;background-color: white;}#sk-container-id-1 div.sk-label label {font-family: monospace;font-weight: bold;display: inline-block;line-height: 1.2em;}#sk-container-id-1 div.sk-label-container {text-align: center;}#sk-container-id-1 div.sk-container {/* jupyter's `normalize.less` sets `[hidden] { display: none; }` but bootstrap.min.css set `[hidden] { display: none !important; }` so we also need the `!important` here to be able to override the default hidden behavior on the sphinx rendered scikit-learn.org. See: https://github.com/scikit-learn/scikit-learn/issues/21755 */display: inline-block !important;position: relative;}#sk-container-id-1 div.sk-text-repr-fallback {display: none;}</style><div id=\"sk-container-id-1\" class=\"sk-top-container\"><div class=\"sk-text-repr-fallback\"><pre>Pipeline(steps=[(&#x27;tfidf&#x27;,\n",
       "                 TfidfVectorizer(max_features=5000, ngram_range=(1, 2))),\n",
       "                (&#x27;smote&#x27;, SMOTE(random_state=42)),\n",
       "                (&#x27;clf&#x27;, RandomForestClassifier())])</pre><b>In a Jupyter environment, please rerun this cell to show the HTML representation or trust the notebook. <br />On GitHub, the HTML representation is unable to render, please try loading this page with nbviewer.org.</b></div><div class=\"sk-container\" hidden><div class=\"sk-item sk-dashed-wrapped\"><div class=\"sk-label-container\"><div class=\"sk-label sk-toggleable\"><input class=\"sk-toggleable__control sk-hidden--visually\" id=\"sk-estimator-id-1\" type=\"checkbox\" ><label for=\"sk-estimator-id-1\" class=\"sk-toggleable__label sk-toggleable__label-arrow\">Pipeline</label><div class=\"sk-toggleable__content\"><pre>Pipeline(steps=[(&#x27;tfidf&#x27;,\n",
       "                 TfidfVectorizer(max_features=5000, ngram_range=(1, 2))),\n",
       "                (&#x27;smote&#x27;, SMOTE(random_state=42)),\n",
       "                (&#x27;clf&#x27;, RandomForestClassifier())])</pre></div></div></div><div class=\"sk-serial\"><div class=\"sk-item\"><div class=\"sk-estimator sk-toggleable\"><input class=\"sk-toggleable__control sk-hidden--visually\" id=\"sk-estimator-id-2\" type=\"checkbox\" ><label for=\"sk-estimator-id-2\" class=\"sk-toggleable__label sk-toggleable__label-arrow\">TfidfVectorizer</label><div class=\"sk-toggleable__content\"><pre>TfidfVectorizer(max_features=5000, ngram_range=(1, 2))</pre></div></div></div><div class=\"sk-item\"><div class=\"sk-estimator sk-toggleable\"><input class=\"sk-toggleable__control sk-hidden--visually\" id=\"sk-estimator-id-3\" type=\"checkbox\" ><label for=\"sk-estimator-id-3\" class=\"sk-toggleable__label sk-toggleable__label-arrow\">SMOTE</label><div class=\"sk-toggleable__content\"><pre>SMOTE(random_state=42)</pre></div></div></div><div class=\"sk-item\"><div class=\"sk-estimator sk-toggleable\"><input class=\"sk-toggleable__control sk-hidden--visually\" id=\"sk-estimator-id-4\" type=\"checkbox\" ><label for=\"sk-estimator-id-4\" class=\"sk-toggleable__label sk-toggleable__label-arrow\">RandomForestClassifier</label><div class=\"sk-toggleable__content\"><pre>RandomForestClassifier()</pre></div></div></div></div></div></div></div>"
      ],
      "text/plain": [
       "Pipeline(steps=[('tfidf',\n",
       "                 TfidfVectorizer(max_features=5000, ngram_range=(1, 2))),\n",
       "                ('smote', SMOTE(random_state=42)),\n",
       "                ('clf', RandomForestClassifier())])"
      ]
     },
     "execution_count": 60,
     "metadata": {},
     "output_type": "execute_result"
    }
   ],
   "source": [
    "# refit the best model pipeline on training data  \n",
    "# our best Model is Random Forest with accuracy 0.8724\n",
    "best_pipeline = Pipeline([\n",
    "    ('tfidf', TfidfVectorizer(max_features=5000, ngram_range=(1,2))),\n",
    "    ('smote', SMOTE(random_state=42)),  \n",
    "    ('clf', models[best_model_name])])\n",
    "\n",
    "best_pipeline.fit(X_train, y_train)"
   ]
  },
  {
   "cell_type": "markdown",
   "id": "55312516",
   "metadata": {},
   "source": [
    "### 6.3 Evaluate on Test Data\n",
    "- this helps check the model before tuning it. its a tuning benchmark"
   ]
  },
  {
   "cell_type": "code",
   "execution_count": 61,
   "id": "924fcba5",
   "metadata": {},
   "outputs": [
    {
     "name": "stdout",
     "output_type": "stream",
     "text": [
      "----------------------------------------\n",
      "Classification Reprt: \n",
      "               precision    recall  f1-score   support\n",
      "\n",
      "           0       0.73      0.39      0.51       114\n",
      "           1       0.89      0.97      0.93       596\n",
      "\n",
      "    accuracy                           0.88       710\n",
      "   macro avg       0.81      0.68      0.72       710\n",
      "weighted avg       0.87      0.88      0.86       710\n",
      "\n",
      "----------------------------------------\n",
      "Accuracy:\n",
      " 0.8788732394366198\n",
      "----------------------------------------\n",
      "Confusion Matrix:\n",
      "\n"
     ]
    },
    {
     "data": {
      "image/png": "[encoded data removed]",
      "text/plain": [
       "<Figure size 640x480 with 2 Axes>"
      ]
     },
     "metadata": {},
     "output_type": "display_data"
    }
   ],
   "source": [
    "y_pred = best_pipeline.predict(X_test)\n",
    "\n",
    "print(\"-\"*40)\n",
    "print( \"Classification Reprt: \\n\",classification_report(y_test, y_pred))\n",
    "print(\"-\"*40)\n",
    "print(\"Accuracy:\\n\", accuracy_score(y_test, y_pred))\n",
    "print(\"-\"*40)\n",
    "print(\"Confusion Matrix:\\n\")\n",
    "ConfusionMatrixDisplay.from_predictions(y_test, y_pred, cmap=\"Blues\")\n",
    "plt.title(\"Confusion Matrix\")\n",
    "plt.show()"
   ]
  },
  {
   "cell_type": "markdown",
   "id": "36d78dc6",
   "metadata": {},
   "source": [
    "#### **Observations**\n",
    "- Overall Accuracy is high (88%), so the model is performing well,But class imbalance is visible:\n",
    "\n",
    "Class 1 is dominant → model is excellent at detecting it (Recall = 0.98).\n",
    "\n",
    "Class 0 is under-represented → model struggles (Recall = 0.37).\n",
    "\n",
    "So even though accuracy is high, the minority class is not well detected."
   ]
  },
  {
   "cell_type": "markdown",
   "id": "7a964fec",
   "metadata": {},
   "source": [
    "### 6.4 Best Model Hyperparameter Tuning (TF-IDF + Random Forest)\n",
    "Random Forest was best, but we can try RandomizedSearchCV to see if tuning improves performance."
   ]
  },
  {
   "cell_type": "code",
   "execution_count": 62,
   "id": "125290e0",
   "metadata": {},
   "outputs": [
    {
     "name": "stdout",
     "output_type": "stream",
     "text": [
      "Fitting 3 folds for each of 20 candidates, totalling 60 fits\n",
      "Best Parameters: {'tfidf__ngram_range': (1, 1), 'tfidf__max_features': 5000, 'clf__n_estimators': 200, 'clf__min_samples_split': 5, 'clf__max_depth': None}\n",
      "Best CV F1 Score: 0.9289016290130644\n"
     ]
    }
   ],
   "source": [
    "\n",
    "# Define param distributions instead of full grid\n",
    "param_dist = { \n",
    "    \"tfidf__max_features\": [5000, 7000],\n",
    "    \"tfidf__ngram_range\": [(1,1), (1,2)],\n",
    "    \"clf__n_estimators\": [200, 400, 600],\n",
    "    \"clf__max_depth\": [None, 10, 20, 30],\n",
    "    \"clf__min_samples_split\": [2, 5, 10]\n",
    "}\n",
    "\n",
    "# Multiple scoring metrics\n",
    "scoring = {\n",
    "    \"accuracy\": \"accuracy\",\n",
    "    \"precision\": \"precision\",\n",
    "    \"recall\": \"recall\",\n",
    "    \"f1\": \"f1\"\n",
    "}\n",
    "\n",
    "# RandomizedSearchCV instead of GridSearchCV\n",
    "grid = RandomizedSearchCV(\n",
    "    Pipeline([\n",
    "        ('tfidf', TfidfVectorizer()),\n",
    "        ('smote', SMOTE(random_state=42)),\n",
    "        ('clf', RandomForestClassifier(class_weight=\"balanced\", random_state=42))\n",
    "    ]),\n",
    "    param_distributions=param_dist,\n",
    "    n_iter=20,   # how many random combinations to try\n",
    "    cv=3,\n",
    "    scoring=scoring,\n",
    "    refit=\"f1\",   # which metric to use for selecting best model\n",
    "    n_jobs=-1,\n",
    "    verbose=3,\n",
    "    random_state=42\n",
    ")\n",
    "\n",
    "grid.fit(X_train, y_train)\n",
    "\n",
    "print(\"Best Parameters:\", grid.best_params_)\n",
    "print(\"Best CV F1 Score:\", grid.best_score_)\n",
    "\n",
    "# Assign tuned pipeline as best_pipeline\n",
    "best_pipeline = grid.best_estimator_\n"
   ]
  },
  {
   "cell_type": "markdown",
   "id": "cd6e24f6",
   "metadata": {},
   "source": [
    "### 6.5 Test the best model"
   ]
  },
  {
   "cell_type": "code",
   "execution_count": 63,
   "id": "786219e7",
   "metadata": {},
   "outputs": [
    {
     "name": "stdout",
     "output_type": "stream",
     "text": [
      "Test Accuracy: 0.8887323943661972\n",
      "\n",
      "Classification Report:\n",
      "               precision    recall  f1-score   support\n",
      "\n",
      "           0       0.87      0.36      0.51       114\n",
      "           1       0.89      0.99      0.94       596\n",
      "\n",
      "    accuracy                           0.89       710\n",
      "   macro avg       0.88      0.67      0.72       710\n",
      "weighted avg       0.89      0.89      0.87       710\n",
      "\n",
      "\n",
      "Confusion Matrix:\n",
      " [[ 41  73]\n",
      " [  6 590]]\n"
     ]
    }
   ],
   "source": [
    "# Predictions on test data\n",
    "y_pred = best_pipeline.predict(X_test)\n",
    "\n",
    "print(\"Test Accuracy:\", accuracy_score(y_test, y_pred))\n",
    "print(\"\\nClassification Report:\\n\", classification_report(y_test, y_pred))\n",
    "print(\"\\nConfusion Matrix:\\n\", confusion_matrix(y_test, y_pred))"
   ]
  }
 ],
 "metadata": {
  "kernelspec": {
   "display_name": "learn-env",
   "language": "python",
   "name": "python3"
  },
  "language_info": {
   "codemirror_mode": {
    "name": "ipython",
    "version": 3
   },
   "file_extension": ".py",
   "mimetype": "text/x-python",
   "name": "python",
   "nbconvert_exporter": "python",
   "pygments_lexer": "ipython3",
   "version": "3.8.5"
  }
 },
 "nbformat": 4,
 "nbformat_minor": 5
}
