{
 "cells": [
  {
   "cell_type": "markdown",
   "id": "a78e97e6",
   "metadata": {},
   "source": [
    "# Sentiment Analysis of Tweets directed at Brands and Products"
   ]
  },
  {
   "cell_type": "markdown",
   "id": "29e81246",
   "metadata": {},
   "source": [
    "### BUSINESS UNDERSTANDING"
   ]
  },
  {
   "cell_type": "markdown",
   "id": "4cc2feec",
   "metadata": {},
   "source": [
    "In today’s digital age, customers frequently share their opinions about products and brands on social media platforms like Twitter. These opinions provide valuable insights for companies to understand customer satisfaction, detect dissatisfaction early, and improve their products or services.\n",
    "\n",
    "The business problem is to automatically identify the sentiment expressed in tweets about Apple and Google products. By classifying tweets as positive, negative, or neutral, businesses can:\n",
    "\n",
    "1. Monitor brand reputation in real time.\n",
    "\n",
    "2. Track how customers respond to new product releases or updates.\n",
    "\n",
    "3. Identify areas for improvement based on negative feedback.\n",
    "\n",
    "4. Support data-driven decision-making in marketing and product strategy.\n",
    "\n",
    "The ultimate goal is to build a sentiment analysis model that helps businesses quickly interpret large volumes of customer feedback without manual review."
   ]
  },
  {
   "cell_type": "markdown",
   "id": "28109bab",
   "metadata": {},
   "source": [
    "### Data Understanding\n",
    "\n",
    "The dataset comes from CrowdFlower and contains over 9,000 tweets related to Apple and Google products. Each tweet has been human-labeled for sentiment as:\n",
    "\n",
    "1. Positive emotion\n",
    "\n",
    "2. Negative emotion\n",
    "\n",
    "3. No emotion toward brand/product\n",
    "\n",
    "4. Unclear/I can’t tell\n",
    "\n",
    "##### Key characteristics:\n",
    "\n",
    "* Textual Data: Tweets are short, noisy, and often contain slang, hashtags, mentions, and URLs, which makes preprocessing crucial.\n",
    "\n",
    "* Target Variable: The label indicating whether a sentiment is directed at a brand or product.\n",
    "\n",
    "* Class Distribution: The dataset is slightly imbalanced, with more neutral/no-emotion tweets compared to positive or negative ones.\n",
    "\n",
    "This dataset is well-suited for the business problem because it directly reflects real customer opinions on social media about Apple and Google. The labeled sentiments provide a foundation for training supervised machine learning models to classify unseen tweets in real time."
   ]
  },
  {
   "cell_type": "code",
   "execution_count": 7,
   "id": "45f85880",
   "metadata": {},
   "outputs": [
    {
     "name": "stderr",
     "output_type": "stream",
     "text": [
      "[nltk_data] Downloading package punkt to\n",
      "[nltk_data]     C:\\Users\\USER\\AppData\\Roaming\\nltk_data...\n",
      "[nltk_data]   Package punkt is already up-to-date!\n",
      "[nltk_data] Downloading package stopwords to\n",
      "[nltk_data]     C:\\Users\\USER\\AppData\\Roaming\\nltk_data...\n",
      "[nltk_data]   Package stopwords is already up-to-date!\n",
      "[nltk_data] Downloading package wordnet to\n",
      "[nltk_data]     C:\\Users\\USER\\AppData\\Roaming\\nltk_data...\n",
      "[nltk_data]   Package wordnet is already up-to-date!\n",
      "[nltk_data] Downloading package omw-1.4 to\n",
      "[nltk_data]     C:\\Users\\USER\\AppData\\Roaming\\nltk_data...\n",
      "[nltk_data]   Package omw-1.4 is already up-to-date!\n"
     ]
    },
    {
     "data": {
      "text/plain": [
       "True"
      ]
     },
     "execution_count": 7,
     "metadata": {},
     "output_type": "execute_result"
    }
   ],
   "source": [
    "# Importing libraries\n",
    "import pandas as pd\n",
    "import numpy as np\n",
    "import re\n",
    "import matplotlib.pyplot as plt\n",
    "import seaborn as sns\n",
    "import nltk\n",
    "from nltk.corpus import stopwords\n",
    "from nltk.stem import WordNetLemmatizer\n",
    "from nltk.tokenize import word_tokenize\n",
    "from sklearn.model_selection import train_test_split, cross_val_score, GridSearchCV\n",
    "from sklearn.feature_extraction.text import TfidfVectorizer\n",
    "from sklearn.preprocessing import LabelEncoder\n",
    "from sklearn.metrics import classification_report, accuracy_score\n",
    "from sklearn.pipeline import Pipeline\n",
    "from sklearn.naive_bayes import MultinomialNB\n",
    "from sklearn.linear_model import LogisticRegression\n",
    "from sklearn.svm import LinearSVC\n",
    "from sklearn.ensemble import RandomForestClassifier\n",
    "from tensorflow.keras.models import Sequential\n",
    "from tensorflow.keras.layers import Dense, Dropout\n",
    "from tensorflow.keras.optimizers import Adam\n",
    "# NLTK downloads\n",
    "nltk.download('punkt')\n",
    "nltk.download('stopwords')\n",
    "nltk.download('wordnet')\n",
    "nltk.download('omw-1.4')\n"
   ]
  },
  {
   "cell_type": "markdown",
   "id": "8c7578c8",
   "metadata": {},
   "source": [
    "#### Exploratory Data Analysis"
   ]
  },
  {
   "cell_type": "code",
   "execution_count": 2,
   "id": "13b7bf77",
   "metadata": {},
   "outputs": [
    {
     "name": "stdout",
     "output_type": "stream",
     "text": [
      "(9093, 3)\n",
      "<class 'pandas.core.frame.DataFrame'>\n",
      "RangeIndex: 9093 entries, 0 to 9092\n",
      "Data columns (total 3 columns):\n",
      " #   Column                                              Non-Null Count  Dtype \n",
      "---  ------                                              --------------  ----- \n",
      " 0   tweet_text                                          9092 non-null   object\n",
      " 1   emotion_in_tweet_is_directed_at                     3291 non-null   object\n",
      " 2   is_there_an_emotion_directed_at_a_brand_or_product  9093 non-null   object\n",
      "dtypes: object(3)\n",
      "memory usage: 213.2+ KB\n"
     ]
    },
    {
     "data": {
      "text/html": [
       "<div>\n",
       "<style scoped>\n",
       "    .dataframe tbody tr th:only-of-type {\n",
       "        vertical-align: middle;\n",
       "    }\n",
       "\n",
       "    .dataframe tbody tr th {\n",
       "        vertical-align: top;\n",
       "    }\n",
       "\n",
       "    .dataframe thead th {\n",
       "        text-align: right;\n",
       "    }\n",
       "</style>\n",
       "<table border=\"1\" class=\"dataframe\">\n",
       "  <thead>\n",
       "    <tr style=\"text-align: right;\">\n",
       "      <th></th>\n",
       "      <th>tweet_text</th>\n",
       "      <th>emotion_in_tweet_is_directed_at</th>\n",
       "      <th>is_there_an_emotion_directed_at_a_brand_or_product</th>\n",
       "    </tr>\n",
       "  </thead>\n",
       "  <tbody>\n",
       "    <tr>\n",
       "      <th>0</th>\n",
       "      <td>.@wesley83 I have a 3G iPhone. After 3 hrs twe...</td>\n",
       "      <td>iPhone</td>\n",
       "      <td>Negative emotion</td>\n",
       "    </tr>\n",
       "    <tr>\n",
       "      <th>1</th>\n",
       "      <td>@jessedee Know about @fludapp ? Awesome iPad/i...</td>\n",
       "      <td>iPad or iPhone App</td>\n",
       "      <td>Positive emotion</td>\n",
       "    </tr>\n",
       "    <tr>\n",
       "      <th>2</th>\n",
       "      <td>@swonderlin Can not wait for #iPad 2 also. The...</td>\n",
       "      <td>iPad</td>\n",
       "      <td>Positive emotion</td>\n",
       "    </tr>\n",
       "    <tr>\n",
       "      <th>3</th>\n",
       "      <td>@sxsw I hope this year's festival isn't as cra...</td>\n",
       "      <td>iPad or iPhone App</td>\n",
       "      <td>Negative emotion</td>\n",
       "    </tr>\n",
       "    <tr>\n",
       "      <th>4</th>\n",
       "      <td>@sxtxstate great stuff on Fri #SXSW: Marissa M...</td>\n",
       "      <td>Google</td>\n",
       "      <td>Positive emotion</td>\n",
       "    </tr>\n",
       "  </tbody>\n",
       "</table>\n",
       "</div>"
      ],
      "text/plain": [
       "                                          tweet_text  \\\n",
       "0  .@wesley83 I have a 3G iPhone. After 3 hrs twe...   \n",
       "1  @jessedee Know about @fludapp ? Awesome iPad/i...   \n",
       "2  @swonderlin Can not wait for #iPad 2 also. The...   \n",
       "3  @sxsw I hope this year's festival isn't as cra...   \n",
       "4  @sxtxstate great stuff on Fri #SXSW: Marissa M...   \n",
       "\n",
       "  emotion_in_tweet_is_directed_at  \\\n",
       "0                          iPhone   \n",
       "1              iPad or iPhone App   \n",
       "2                            iPad   \n",
       "3              iPad or iPhone App   \n",
       "4                          Google   \n",
       "\n",
       "  is_there_an_emotion_directed_at_a_brand_or_product  \n",
       "0                                   Negative emotion  \n",
       "1                                   Positive emotion  \n",
       "2                                   Positive emotion  \n",
       "3                                   Negative emotion  \n",
       "4                                   Positive emotion  "
      ]
     },
     "execution_count": 2,
     "metadata": {},
     "output_type": "execute_result"
    }
   ],
   "source": [
    "# Loading dataset\n",
    "\n",
    "df = pd.read_csv(\"Data\\judge-1377884607_tweet_product_company.csv\",encoding=\"latin1\")\n",
    "\n",
    "# Quick overview\n",
    "print(df.shape)\n",
    "df.info()\n",
    "df.head()\n"
   ]
  },
  {
   "cell_type": "markdown",
   "id": "507f254c",
   "metadata": {},
   "source": [
    "The dataset has 9093 rows and 3 columns.\n",
    "\n",
    "Key columns of interest:\n",
    "\n",
    "* tweet_text → raw tweet ( The input feature)\n",
    "\n",
    "* is_there_an_emotion_directed_at_a_brand_or_product → target sentiment\n",
    "\n",
    "* emotion_in_tweet_is_directed_at → optional metadata (brand/product mentioned)"
   ]
  },
  {
   "cell_type": "code",
   "execution_count": 3,
   "id": "4e81b42f",
   "metadata": {},
   "outputs": [
    {
     "data": {
      "text/plain": [
       "tweet_text                                               1\n",
       "emotion_in_tweet_is_directed_at                       5802\n",
       "is_there_an_emotion_directed_at_a_brand_or_product       0\n",
       "dtype: int64"
      ]
     },
     "execution_count": 3,
     "metadata": {},
     "output_type": "execute_result"
    }
   ],
   "source": [
    "# Checks for Missing Values\n",
    "df.isnull().sum()"
   ]
  },
  {
   "cell_type": "markdown",
   "id": "0c18b905",
   "metadata": {},
   "source": [
    "tweet_text: 1 missing value\n",
    "\n",
    "emotion_in_tweet_is_directed_at: ~5,800 missing (not essential for sentiment task)\n",
    "\n",
    "is_there_an_emotion_directed_at_a_brand_or_product: no missing values"
   ]
  },
  {
   "cell_type": "code",
   "execution_count": 4,
   "id": "25d06906",
   "metadata": {},
   "outputs": [
    {
     "data": {
      "image/png": "[encoded data removed]",
      "text/plain": [
       "<Figure size 800x500 with 1 Axes>"
      ]
     },
     "metadata": {},
     "output_type": "display_data"
    }
   ],
   "source": [
    "# Target Distribution\n",
    "plt.figure(figsize=(8,5))\n",
    "sns.countplot(x=df['is_there_an_emotion_directed_at_a_brand_or_product'], order=df['is_there_an_emotion_directed_at_a_brand_or_product'].value_counts().index)\n",
    "plt.title(\"Distribution of Sentiment Classes\")\n",
    "plt.xticks(rotation=45)\n",
    "plt.show()\n"
   ]
  },
  {
   "cell_type": "markdown",
   "id": "e2c6de77",
   "metadata": {},
   "source": [
    "The dataset contains four target categories: Positive emotion, Negative emotion, No emotion toward brand or product, and I can’t tell. An imbalance is evident across these classes, with the No emotion category appearing more frequently than the Positive emotion category."
   ]
  },
  {
   "cell_type": "code",
   "execution_count": 5,
   "id": "2c0c3e0b",
   "metadata": {},
   "outputs": [
    {
     "data": {
      "image/png": "[encoded data removed]",
      "text/plain": [
       "<Figure size 640x480 with 1 Axes>"
      ]
     },
     "metadata": {},
     "output_type": "display_data"
    }
   ],
   "source": [
    "# Tweet Length Analysis\n",
    "df['tweet_length'] = df['tweet_text'].apply(lambda x: len(str(x).split()))\n",
    "sns.histplot(df['tweet_length'], bins=30, kde=True)\n",
    "plt.title(\"Distribution of Tweet Lengths (in words)\")\n",
    "plt.xlabel(\"Word Count\")\n",
    "plt.ylabel(\"Frequency\")\n",
    "plt.show()\n"
   ]
  },
  {
   "cell_type": "markdown",
   "id": "c2d503ff",
   "metadata": {},
   "source": [
    "Most tweets range between 5–25 words, with a few outliers that are either very short (1–2 words) or unusually long."
   ]
  },
  {
   "cell_type": "markdown",
   "id": "9275f1f2",
   "metadata": {},
   "source": [
    "####  Data Preparation"
   ]
  },
  {
   "cell_type": "code",
   "execution_count": 8,
   "id": "435299e9",
   "metadata": {},
   "outputs": [
    {
     "name": "stdout",
     "output_type": "stream",
     "text": [
      "Shape after dropping null tweet_text: (9092, 4)\n",
      "\n",
      "Target value counts:\n",
      "is_there_an_emotion_directed_at_a_brand_or_product\n",
      "No emotion toward brand or product    5388\n",
      "Positive emotion                      2978\n",
      "Negative emotion                       570\n",
      "I can't tell                           156\n",
      "Name: count, dtype: int64\n"
     ]
    }
   ],
   "source": [
    "# Handles Missing Values\n",
    "\n",
    "# Drop rows with null tweets (main feature)\n",
    "df = df.dropna(subset=['tweet_text'])\n",
    "\n",
    "# Verify shape after dropping\n",
    "print(\"Shape after dropping null tweet_text:\", df.shape)\n",
    "\n",
    "# Check target distribution\n",
    "print(\"\\nTarget value counts:\")\n",
    "print(df['is_there_an_emotion_directed_at_a_brand_or_product'].value_counts())\n"
   ]
  },
  {
   "cell_type": "markdown",
   "id": "999a71f5",
   "metadata": {},
   "source": [
    "Dataset Overview After Cleaning\n",
    "\n",
    "After removing rows with missing tweet_text, the dataset contains 9,092 records.\n",
    "\n",
    "The distribution of target labels indicates a noticeable class imbalance:\n",
    "\n",
    "* No emotion toward brand or product: 5,388\n",
    "\n",
    "* Positive emotion: 2,978\n",
    "\n",
    "* Negative emotion: 570\n",
    "\n",
    "* I can’t tell: 156\n",
    "\n",
    "The No emotion category is the majority class, while Negative and I can’t tell are underrepresented"
   ]
  },
  {
   "cell_type": "code",
   "execution_count": 9,
   "id": "572bc79b",
   "metadata": {},
   "outputs": [
    {
     "name": "stdout",
     "output_type": "stream",
     "text": [
      "Shape of binary dataset: (3548, 4)\n",
      "\n",
      "Binary target distribution:\n",
      "is_there_an_emotion_directed_at_a_brand_or_product\n",
      "Positive emotion    2978\n",
      "Negative emotion     570\n",
      "Name: count, dtype: int64\n"
     ]
    }
   ],
   "source": [
    "# Binary Classification Setup\n",
    "# Keep only Positive and Negative emotions\n",
    "df_binary = df[df['is_there_an_emotion_directed_at_a_brand_or_product'].isin(['Positive emotion', 'Negative emotion'])]\n",
    "\n",
    "# Check new shape and distribution\n",
    "print(\"Shape of binary dataset:\", df_binary.shape)\n",
    "print(\"\\nBinary target distribution:\")\n",
    "print(df_binary['is_there_an_emotion_directed_at_a_brand_or_product'].value_counts())\n"
   ]
  },
  {
   "cell_type": "markdown",
   "id": "e6f5387d",
   "metadata": {},
   "source": [
    "For the binary classification task, only the Positive emotion and Negative emotion classes were retained, resulting in a dataset of 3,548 records, where Positive emotion (2,978) substantially outnumbers Negative emotion (570), indicating class imbalance."
   ]
  },
  {
   "cell_type": "markdown",
   "id": "1784de64",
   "metadata": {},
   "source": [
    "#### ADVANCED TEXT CLEANING\n",
    "\n",
    "Tweets contain noise such as URLs, hashtags, mentions, punctuation, numbers, and filler words (stopwords). If we feed this raw text directly into a model, it can mislead the classifier. Therefore, we clean and normalize the text so that the model focuses only on meaningful tokens."
   ]
  },
  {
   "cell_type": "code",
   "execution_count": 10,
   "id": "78db59a3",
   "metadata": {},
   "outputs": [
    {
     "data": {
      "text/html": [
       "<div>\n",
       "<style scoped>\n",
       "    .dataframe tbody tr th:only-of-type {\n",
       "        vertical-align: middle;\n",
       "    }\n",
       "\n",
       "    .dataframe tbody tr th {\n",
       "        vertical-align: top;\n",
       "    }\n",
       "\n",
       "    .dataframe thead th {\n",
       "        text-align: right;\n",
       "    }\n",
       "</style>\n",
       "<table border=\"1\" class=\"dataframe\">\n",
       "  <thead>\n",
       "    <tr style=\"text-align: right;\">\n",
       "      <th></th>\n",
       "      <th>tweet_text</th>\n",
       "      <th>cleaned_tweet</th>\n",
       "    </tr>\n",
       "  </thead>\n",
       "  <tbody>\n",
       "    <tr>\n",
       "      <th>0</th>\n",
       "      <td>.@wesley83 I have a 3G iPhone. After 3 hrs twe...</td>\n",
       "      <td>g iphone hr tweeting riseaustin dead need upgr...</td>\n",
       "    </tr>\n",
       "    <tr>\n",
       "      <th>1</th>\n",
       "      <td>@jessedee Know about @fludapp ? Awesome iPad/i...</td>\n",
       "      <td>know awesome ipadiphone app youll likely appre...</td>\n",
       "    </tr>\n",
       "    <tr>\n",
       "      <th>2</th>\n",
       "      <td>@swonderlin Can not wait for #iPad 2 also. The...</td>\n",
       "      <td>wait ipad also sale sxsw</td>\n",
       "    </tr>\n",
       "    <tr>\n",
       "      <th>3</th>\n",
       "      <td>@sxsw I hope this year's festival isn't as cra...</td>\n",
       "      <td>hope year festival isnt crashy year iphone app...</td>\n",
       "    </tr>\n",
       "    <tr>\n",
       "      <th>4</th>\n",
       "      <td>@sxtxstate great stuff on Fri #SXSW: Marissa M...</td>\n",
       "      <td>great stuff fri sxsw marissa mayer google tim ...</td>\n",
       "    </tr>\n",
       "  </tbody>\n",
       "</table>\n",
       "</div>"
      ],
      "text/plain": [
       "                                          tweet_text  \\\n",
       "0  .@wesley83 I have a 3G iPhone. After 3 hrs twe...   \n",
       "1  @jessedee Know about @fludapp ? Awesome iPad/i...   \n",
       "2  @swonderlin Can not wait for #iPad 2 also. The...   \n",
       "3  @sxsw I hope this year's festival isn't as cra...   \n",
       "4  @sxtxstate great stuff on Fri #SXSW: Marissa M...   \n",
       "\n",
       "                                       cleaned_tweet  \n",
       "0  g iphone hr tweeting riseaustin dead need upgr...  \n",
       "1  know awesome ipadiphone app youll likely appre...  \n",
       "2                           wait ipad also sale sxsw  \n",
       "3  hope year festival isnt crashy year iphone app...  \n",
       "4  great stuff fri sxsw marissa mayer google tim ...  "
      ]
     },
     "execution_count": 10,
     "metadata": {},
     "output_type": "execute_result"
    }
   ],
   "source": [
    "# Initialize tools\n",
    "stop_words = set(stopwords.words('english'))\n",
    "lemmatizer = WordNetLemmatizer()\n",
    "\n",
    "# Cleaning function\n",
    "def clean_text(text):\n",
    "    text = text.lower()  # Lowercase\n",
    "    text = re.sub(r\"http\\S+|www\\S+|https\\S+\", '', text)  # Remove URLs\n",
    "    text = re.sub(r'\\@\\w+|\\#', '', text)  # Remove mentions & hashtags\n",
    "    text = re.sub(r'[^a-zA-Z\\s]', '', text)  # Remove non-alphabetic characters\n",
    "    tokens = word_tokenize(text)  # Tokenize\n",
    "    tokens = [lemmatizer.lemmatize(word) for word in tokens if word not in stop_words]  # Remove stopwords + lemmatize\n",
    "    return ' '.join(tokens)\n",
    "\n",
    "# Apply cleaning to tweets\n",
    "df['cleaned_tweet'] = df['tweet_text'].apply(clean_text)\n",
    "\n",
    "# Preview cleaned text\n",
    "df[['tweet_text', 'cleaned_tweet']].head()\n"
   ]
  }
 ],
 "metadata": {
  "kernelspec": {
   "display_name": "learn-env",
   "language": "python",
   "name": "python3"
  },
  "language_info": {
   "codemirror_mode": {
    "name": "ipython",
    "version": 3
   },
   "file_extension": ".py",
   "mimetype": "text/x-python",
   "name": "python",
   "nbconvert_exporter": "python",
   "pygments_lexer": "ipython3",
   "version": "3.8.15"
  }
 },
 "nbformat": 4,
 "nbformat_minor": 5
}
